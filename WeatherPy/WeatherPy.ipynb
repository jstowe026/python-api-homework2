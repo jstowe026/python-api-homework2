{
 "cells": [
  {
   "cell_type": "markdown",
   "metadata": {},
   "source": [
    "# WeatherPy\n",
    "----\n",
    "\n",
    "#### Note\n",
    "* Instructions have been included for each segment. You do not have to follow them exactly, but they are included to help you think through the steps."
   ]
  },
  {
   "cell_type": "code",
   "execution_count": 1,
   "metadata": {
    "scrolled": true
   },
   "outputs": [],
   "source": [
    "# Dependencies and Setup\n",
    "import matplotlib.pyplot as plt\n",
    "import pandas as pd\n",
    "import numpy as np\n",
    "import requests\n",
    "import time\n",
    "from scipy.stats import linregress\n",
    "\n",
    "# Import API key\n",
    "from api_keys import weather_api_key\n",
    "\n",
    "# Incorporated citipy to determine city based on latitude and longitude\n",
    "from citipy import citipy\n",
    "\n",
    "# Output File (CSV)\n",
    "output_data_file = \"output_data/cities.csv\"\n",
    "\n",
    "# Range of latitudes and longitudes\n",
    "lat_range = (-90, 90)\n",
    "lng_range = (-180, 180)"
   ]
  },
  {
   "cell_type": "markdown",
   "metadata": {},
   "source": [
    "## Generate Cities List"
   ]
  },
  {
   "cell_type": "code",
   "execution_count": 2,
   "metadata": {},
   "outputs": [
    {
     "data": {
      "text/plain": [
       "616"
      ]
     },
     "execution_count": 2,
     "metadata": {},
     "output_type": "execute_result"
    }
   ],
   "source": [
    "# List for holding lat_lngs and cities\n",
    "lat_lngs = []\n",
    "cities = []\n",
    "\n",
    "# Create a set of random lat and lng combinations\n",
    "lats = np.random.uniform(low=-90.000, high=90.000, size=1500)\n",
    "lngs = np.random.uniform(low=-180.000, high=180.000, size=1500)\n",
    "lat_lngs = zip(lats, lngs)\n",
    "\n",
    "# Identify nearest city for each lat, lng combination\n",
    "for lat_lng in lat_lngs:\n",
    "    city = citipy.nearest_city(lat_lng[0], lat_lng[1]).city_name\n",
    "    \n",
    "    # If the city is unique, then add it to a our cities list\n",
    "    if city not in cities:\n",
    "        cities.append(city)\n",
    "\n",
    "# Print the city count to confirm sufficient count\n",
    "len(cities)"
   ]
  },
  {
   "cell_type": "markdown",
   "metadata": {},
   "source": [
    "### Perform API Calls\n",
    "* Perform a weather check on each city using a series of successive API calls.\n",
    "* Include a print log of each city as it'sbeing processed (with the city number and city name).\n"
   ]
  },
  {
   "cell_type": "code",
   "execution_count": 3,
   "metadata": {},
   "outputs": [
    {
     "name": "stdout",
     "output_type": "stream",
     "text": [
      "Beginning Data Retrieval\n",
      "-------------------------\n",
      "Processing Record | male found\n",
      "Processing Record | la mira found\n",
      "Processing Record | henties bay found\n",
      "Processing Record | rikitea found\n",
      "Processing Record | cape town found\n",
      "Processing Record | terralba found\n",
      "Processing Record | katsuura found\n",
      "Processing Record | ruatoria not found\n",
      "Processing Record | busselton found\n",
      "Processing Record | ribeira grande found\n",
      "Processing Record | bolshoye sorokino not found\n",
      "Processing Record | praia da vitoria found\n",
      "Processing Record | laguna found\n",
      "Processing Record | vaitupu not found\n",
      "Processing Record | namibe found\n",
      "Processing Record | bluff found\n",
      "Processing Record | chuy found\n",
      "Processing Record | broome found\n",
      "Processing Record | hirara found\n",
      "Processing Record | hobart found\n",
      "Processing Record | karauzyak not found\n",
      "Processing Record | avarua found\n",
      "Processing Record | kloulklubed found\n",
      "Processing Record | punta arenas found\n",
      "Processing Record | port hardy found\n",
      "Processing Record | nikolskoye found\n",
      "Processing Record | saleaula not found\n",
      "Processing Record | barrow found\n",
      "Processing Record | paamiut found\n",
      "Processing Record | dikson found\n",
      "Processing Record | tsihombe not found\n",
      "Processing Record | cabo san lucas found\n",
      "Processing Record | ushuaia found\n",
      "Processing Record | digby found\n",
      "Processing Record | wad madani found\n",
      "Processing Record | ngunguru found\n",
      "Processing Record | hilo found\n",
      "Processing Record | ponta delgada found\n",
      "Processing Record | vila franca do campo found\n",
      "Processing Record | kapaa found\n",
      "Processing Record | navapur not found\n",
      "Processing Record | taolanaro not found\n",
      "Processing Record | bredasdorp found\n",
      "Processing Record | kavieng found\n",
      "Processing Record | byron bay found\n",
      "Processing Record | luderitz found\n",
      "Processing Record | yellowknife found\n",
      "Processing Record | butaritari found\n",
      "Processing Record | los llanos de aridane found\n",
      "Processing Record | nguru found\n",
      "Processing Record | bantou found\n",
      "Processing Record | carnarvon found\n",
      "Processing Record | san andres found\n",
      "Processing Record | najran found\n",
      "Processing Record | trowbridge found\n",
      "Processing Record | mataura found\n",
      "Processing Record | garissa found\n",
      "Processing Record | clyde river found\n",
      "Processing Record | thompson found\n",
      "Processing Record | fortuna found\n",
      "Processing Record | isangel found\n",
      "Processing Record | chinsali found\n",
      "Processing Record | ingham found\n",
      "Processing Record | jamestown found\n",
      "Processing Record | tuktoyaktuk found\n",
      "Processing Record | pandan found\n",
      "Processing Record | petropavlovsk-kamchatskiy found\n",
      "Processing Record | hasaki found\n",
      "Processing Record | new norfolk found\n",
      "Processing Record | faanui found\n",
      "Processing Record | haibowan not found\n",
      "Processing Record | pangkalanbuun found\n",
      "Processing Record | east london found\n",
      "Processing Record | waingapu found\n",
      "Processing Record | sembakung found\n",
      "Processing Record | tuggurt not found\n",
      "Processing Record | yeppoon found\n",
      "Processing Record | beringovskiy found\n",
      "Processing Record | kaniama found\n",
      "Processing Record | bichena found\n",
      "Processing Record | pabrade found\n",
      "Processing Record | dryden found\n",
      "Processing Record | muzhi found\n",
      "Processing Record | kahului found\n",
      "Processing Record | puerto madero found\n",
      "Processing Record | arraial do cabo found\n",
      "Processing Record | bambous virieux found\n",
      "Processing Record | kambove found\n",
      "Processing Record | te anau found\n",
      "Processing Record | atar found\n",
      "Processing Record | victoria found\n",
      "Processing Record | sicuani found\n",
      "Processing Record | innisfail found\n",
      "Processing Record | xining found\n",
      "Processing Record | tiksi found\n",
      "Processing Record | bethel found\n",
      "Processing Record | devonport found\n",
      "Processing Record | polyarnyy found\n",
      "Processing Record | albany found\n",
      "Processing Record | puerto colombia found\n",
      "Processing Record | mar del plata found\n",
      "Processing Record | sorland found\n",
      "Processing Record | fairbanks found\n",
      "Processing Record | saskylakh found\n",
      "Processing Record | hithadhoo found\n",
      "Processing Record | lovington found\n",
      "Processing Record | hakui found\n",
      "Processing Record | ilulissat found\n",
      "Processing Record | vaini found\n",
      "Processing Record | nicolas bravo found\n",
      "Processing Record | ancud found\n",
      "Processing Record | port-gentil found\n",
      "Processing Record | salalah found\n",
      "Processing Record | cherskiy found\n",
      "Processing Record | iqaluit found\n",
      "Processing Record | cidreira found\n",
      "Processing Record | ola found\n",
      "Processing Record | longyearbyen found\n",
      "Processing Record | hofn found\n",
      "Processing Record | gamba found\n",
      "Processing Record | sinkat not found\n",
      "Processing Record | pervomayskoye found\n",
      "Processing Record | tasiilaq found\n",
      "Processing Record | jinka found\n",
      "Processing Record | zyryanka found\n",
      "Processing Record | kaeo found\n",
      "Processing Record | chokurdakh found\n",
      "Processing Record | naica found\n",
      "Processing Record | oranjemund found\n",
      "Processing Record | moussoro found\n",
      "Processing Record | upernavik found\n",
      "Processing Record | port alfred found\n",
      "Processing Record | progreso found\n",
      "Processing Record | tuatapere found\n",
      "Processing Record | airai found\n",
      "Processing Record | jiuquan found\n",
      "Processing Record | trincomalee found\n",
      "Processing Record | hermanus found\n",
      "Processing Record | dzhebariki-khaya found\n",
      "Processing Record | sola found\n",
      "Processing Record | ormara found\n",
      "Processing Record | belaya gora found\n",
      "Processing Record | mys shmidta not found\n",
      "Processing Record | svetlogorsk found\n",
      "Processing Record | olinda found\n",
      "Processing Record | caravelas found\n",
      "Processing Record | shaki found\n",
      "Processing Record | chimbote found\n",
      "Processing Record | illoqqortoormiut not found\n",
      "Processing Record | medicine hat found\n",
      "Processing Record | mahebourg found\n",
      "Processing Record | saldanha found\n",
      "Processing Record | port elizabeth found\n",
      "Processing Record | malartic found\n",
      "Processing Record | sur found\n",
      "Processing Record | kandrian found\n",
      "Processing Record | mount isa found\n",
      "Processing Record | ornes found\n",
      "Processing Record | mandawar found\n",
      "Processing Record | talnakh found\n",
      "Processing Record | georgetown found\n",
      "Processing Record | atuona found\n",
      "Processing Record | belushya guba not found\n",
      "Processing Record | portland found\n",
      "Processing Record | conakry found\n",
      "Processing Record | tumannyy not found\n",
      "Processing Record | akoupe found\n",
      "Processing Record | barra do garcas found\n",
      "Processing Record | cochrane found\n",
      "Processing Record | iquique found\n",
      "Processing Record | coquimbo found\n",
      "Processing Record | richards bay found\n",
      "Processing Record | lorengau found\n",
      "Processing Record | polewali found\n",
      "Processing Record | bolungarvik not found\n",
      "Processing Record | vardo found\n",
      "Processing Record | ndele found\n",
      "Processing Record | changping found\n",
      "Processing Record | oistins found\n",
      "Processing Record | chapais found\n",
      "Processing Record | kodiak found\n",
      "Processing Record | kirakira found\n",
      "Processing Record | ahipara found\n",
      "Processing Record | cockburn town found\n",
      "Processing Record | kajaani found\n",
      "Processing Record | sataua not found\n",
      "Processing Record | bengkulu found\n",
      "Processing Record | severo-kurilsk found\n",
      "Processing Record | talcahuano found\n",
      "Processing Record | chama found\n",
      "Processing Record | viligili not found\n",
      "Processing Record | okha found\n",
      "Processing Record | slave lake found\n",
      "Processing Record | sekoma found\n",
      "Processing Record | asfi found\n",
      "Processing Record | saint anthony found\n",
      "Processing Record | vieques found\n",
      "Processing Record | khatanga found\n",
      "Processing Record | umm durman not found\n",
      "Processing Record | ponta do sol found\n",
      "Processing Record | puerto narino found\n",
      "Processing Record | qafsah not found\n",
      "Processing Record | sao jose da coroa grande found\n",
      "Processing Record | pangody found\n",
      "Processing Record | sobolevo found\n",
      "Processing Record | san patricio found\n",
      "Processing Record | urengoy found\n",
      "Processing Record | lebu found\n",
      "Processing Record | mujiayingzi found\n",
      "Processing Record | osa found\n",
      "Processing Record | taguatinga found\n",
      "Processing Record | mangla found\n",
      "Processing Record | kaitangata found\n",
      "Processing Record | buala found\n",
      "Processing Record | tambun found\n",
      "Processing Record | plettenberg bay found\n",
      "Processing Record | ketchikan found\n",
      "Processing Record | nishihara found\n",
      "Processing Record | lagunas found\n",
      "Processing Record | usinsk found\n",
      "Processing Record | sitka found\n",
      "Processing Record | nizhneyansk not found\n",
      "Processing Record | tommot found\n",
      "Processing Record | otavalo found\n",
      "Processing Record | yuryevets found\n",
      "Processing Record | upington found\n",
      "Processing Record | deputatskiy found\n",
      "Processing Record | castro found\n"
     ]
    },
    {
     "name": "stdout",
     "output_type": "stream",
     "text": [
      "Processing Record | paradwip not found\n",
      "Processing Record | hamilton found\n",
      "Processing Record | sulangan found\n",
      "Processing Record | saint george found\n",
      "Processing Record | miri found\n",
      "Processing Record | chagda not found\n",
      "Processing Record | torbay found\n",
      "Processing Record | bend found\n",
      "Processing Record | alice springs found\n",
      "Processing Record | ust-nera found\n",
      "Processing Record | borger found\n",
      "Processing Record | mirabad found\n",
      "Processing Record | watsa found\n",
      "Processing Record | qaanaaq found\n",
      "Processing Record | gejiu found\n",
      "Processing Record | ambunti found\n",
      "Processing Record | isabela found\n",
      "Processing Record | pevek found\n",
      "Processing Record | lavrentiya found\n",
      "Processing Record | lazaro cardenas found\n",
      "Processing Record | geraldton found\n",
      "Processing Record | amderma not found\n",
      "Processing Record | barentsburg not found\n",
      "Processing Record | anadyr found\n",
      "Processing Record | bowen found\n",
      "Processing Record | puerto ayacucho found\n",
      "Processing Record | walvis bay found\n",
      "Processing Record | morondava found\n",
      "Processing Record | dingle found\n",
      "Processing Record | san rafael found\n",
      "Processing Record | nanortalik found\n",
      "Processing Record | ajdabiya found\n",
      "Processing Record | moscow found\n",
      "Processing Record | clinton found\n",
      "Processing Record | ahero found\n",
      "Processing Record | chippewa falls found\n",
      "Processing Record | mayskiy found\n",
      "Processing Record | yuanping found\n",
      "Processing Record | abha found\n",
      "Processing Record | ixtapa found\n",
      "Processing Record | puerto ayora found\n",
      "Processing Record | mopti found\n",
      "Processing Record | jalu found\n",
      "Processing Record | lieksa found\n",
      "Processing Record | novoagansk found\n",
      "Processing Record | milkovo found\n",
      "Processing Record | jinchang found\n",
      "Processing Record | natagaima found\n",
      "Processing Record | merauke found\n",
      "Processing Record | esperance found\n",
      "Processing Record | yulara found\n",
      "Processing Record | minsk found\n",
      "Processing Record | klaksvik found\n",
      "Processing Record | ibra found\n",
      "Processing Record | axim found\n",
      "Processing Record | yining found\n",
      "Processing Record | kamenka found\n",
      "Processing Record | ukiah found\n",
      "Processing Record | ekhabi found\n",
      "Processing Record | lompoc found\n",
      "Processing Record | college found\n",
      "Processing Record | bargal not found\n",
      "Processing Record | salinas found\n",
      "Processing Record | norman wells found\n",
      "Processing Record | westport found\n",
      "Processing Record | melegnano found\n",
      "Processing Record | nyzhni sirohozy found\n",
      "Processing Record | touba found\n",
      "Processing Record | hobyo found\n",
      "Processing Record | krasnaya gora found\n",
      "Processing Record | sept-iles found\n",
      "Processing Record | provideniya found\n",
      "Processing Record | pitimbu found\n",
      "Processing Record | ostrovnoy found\n",
      "Processing Record | mokhotlong found\n",
      "Processing Record | saint-philippe found\n",
      "Processing Record | nelson bay found\n",
      "Processing Record | pemangkat found\n",
      "Processing Record | pokhara found\n",
      "Processing Record | guerrero negro found\n",
      "Processing Record | mbekenyera found\n",
      "Processing Record | rawah found\n",
      "Processing Record | sao joao da barra found\n",
      "Processing Record | hualmay found\n",
      "Processing Record | lagoa found\n",
      "Processing Record | mecca found\n",
      "Processing Record | northam found\n",
      "Processing Record | maraba found\n",
      "Processing Record | arona found\n",
      "Processing Record | qaqortoq found\n",
      "Processing Record | atocha found\n",
      "Processing Record | trairi found\n",
      "Processing Record | komsomolskiy found\n",
      "Processing Record | lasa found\n",
      "Processing Record | mackay found\n",
      "Processing Record | garowe found\n",
      "Processing Record | borlange not found\n",
      "Processing Record | lake city found\n",
      "Processing Record | mount gambier found\n",
      "Processing Record | hami found\n",
      "Processing Record | nome found\n",
      "Processing Record | myitkyina found\n",
      "Processing Record | marcona not found\n",
      "Processing Record | buenos aires found\n",
      "Processing Record | alekseyevka found\n",
      "Processing Record | sabang found\n",
      "Processing Record | port macquarie found\n",
      "Processing Record | gilazi not found\n",
      "Processing Record | arman found\n",
      "Processing Record | batticaloa found\n",
      "Processing Record | cayenne found\n",
      "Processing Record | barra patuca found\n",
      "Processing Record | kapit found\n",
      "Processing Record | lander found\n",
      "Processing Record | moulins found\n",
      "Processing Record | grand gaube found\n",
      "Processing Record | boda found\n",
      "Processing Record | srednekolymsk found\n",
      "Processing Record | mayo found\n",
      "Processing Record | awjilah found\n",
      "Processing Record | olafsvik found\n",
      "Processing Record | gigmoto found\n",
      "Processing Record | fort nelson found\n",
      "Processing Record | tezu found\n",
      "Processing Record | ulladulla found\n",
      "Processing Record | nanga eboko found\n",
      "Processing Record | zhezkazgan found\n",
      "Processing Record | pagouria found\n",
      "Processing Record | miedzychod found\n",
      "Processing Record | the valley found\n",
      "Processing Record | lokosovo found\n",
      "Processing Record | port hedland found\n",
      "Processing Record | naze found\n",
      "Processing Record | margate found\n",
      "Processing Record | namatanai found\n",
      "Processing Record | asamankese found\n",
      "Processing Record | goldap found\n",
      "Processing Record | sistranda found\n",
      "Processing Record | labuhan found\n",
      "Processing Record | teya found\n",
      "Processing Record | warqla not found\n",
      "Processing Record | stamsund not found\n",
      "Processing Record | polovinnoye found\n",
      "Processing Record | bathsheba found\n",
      "Processing Record | coihaique found\n",
      "Processing Record | mandalgovi found\n",
      "Processing Record | brae found\n",
      "Processing Record | gulshat not found\n",
      "Processing Record | akdepe found\n",
      "Processing Record | umm lajj found\n",
      "Processing Record | dunedin found\n",
      "Processing Record | san benito found\n",
      "Processing Record | kitzingen found\n",
      "Processing Record | bonavista found\n",
      "Processing Record | likasi found\n",
      "Processing Record | maryville found\n",
      "Processing Record | talara found\n",
      "Processing Record | nemuro found\n",
      "Processing Record | khandyga found\n",
      "Processing Record | grand river south east not found\n",
      "Processing Record | umm kaddadah found\n",
      "Processing Record | chandler found\n",
      "Processing Record | grindavik found\n",
      "Processing Record | louisbourg not found\n",
      "Processing Record | shelburne found\n",
      "Processing Record | taltal found\n",
      "Processing Record | eureka found\n",
      "Processing Record | kousseri found\n",
      "Processing Record | aguimes found\n",
      "Processing Record | batemans bay found\n",
      "Processing Record | taitung found\n",
      "Processing Record | tazovskiy found\n",
      "Processing Record | kuminskiy found\n",
      "Processing Record | fergus falls found\n",
      "Processing Record | novonikolsk found\n",
      "Processing Record | pilar found\n",
      "Processing Record | san lorenzo found\n",
      "Processing Record | tilichiki found\n",
      "Processing Record | bolshegrivskoye not found\n",
      "Processing Record | marshall found\n",
      "Processing Record | susanino found\n",
      "Processing Record | codrington found\n",
      "Processing Record | abu jubayhah not found\n",
      "Processing Record | berlevag found\n",
      "Processing Record | praia found\n",
      "Processing Record | sayyan found\n",
      "Processing Record | ternate found\n",
      "Processing Record | channel-port aux basques found\n",
      "Processing Record | beidao found\n",
      "Processing Record | riyadh found\n",
      "Processing Record | pokaran found\n",
      "Processing Record | sendhwa found\n",
      "Processing Record | mogadishu found\n",
      "Processing Record | noumea found\n",
      "Processing Record | sanchez found\n",
      "Processing Record | uusikaupunki found\n",
      "Processing Record | pokosnoye found\n",
      "Processing Record | inhambane found\n",
      "Processing Record | amapa found\n",
      "Processing Record | khasan found\n",
      "Processing Record | flinders found\n",
      "Processing Record | pontianak found\n",
      "Processing Record | san jeronimo found\n",
      "Processing Record | dali found\n",
      "Processing Record | mayumba found\n",
      "Processing Record | rundu found\n",
      "Processing Record | kihei found\n",
      "Processing Record | kastamonu found\n",
      "Processing Record | kabompo found\n",
      "Processing Record | duliagaon found\n",
      "Processing Record | jiayuguan found\n",
      "Processing Record | rocha found\n",
      "Processing Record | kruisfontein found\n",
      "Processing Record | quatre cocos found\n",
      "Processing Record | muros found\n",
      "Processing Record | dunda found\n",
      "Processing Record | mae ramat found\n",
      "Processing Record | freeport found\n",
      "Processing Record | werda found\n",
      "Processing Record | nacogdoches found\n",
      "Processing Record | el badari not found\n",
      "Processing Record | flin flon found\n",
      "Processing Record | arad found\n",
      "Processing Record | tual found\n",
      "Processing Record | tchollire found\n",
      "Processing Record | warrington found\n",
      "Processing Record | roald found\n",
      "Processing Record | port lincoln found\n",
      "Processing Record | aklavik found\n",
      "Processing Record | souillac found\n",
      "Processing Record | houma found\n",
      "Processing Record | okato found\n"
     ]
    },
    {
     "name": "stdout",
     "output_type": "stream",
     "text": [
      "Processing Record | stepnyak found\n",
      "Processing Record | zambezi found\n",
      "Processing Record | meulaboh found\n",
      "Processing Record | coachella found\n",
      "Processing Record | sydney found\n",
      "Processing Record | chernyshevskiy found\n",
      "Processing Record | acapulco found\n",
      "Processing Record | zhanaozen found\n",
      "Processing Record | juneau found\n",
      "Processing Record | batsfjord found\n",
      "Processing Record | moerbeke found\n",
      "Processing Record | bintulu found\n",
      "Processing Record | lata found\n",
      "Processing Record | tandil found\n",
      "Processing Record | pisco found\n",
      "Processing Record | gondanglegi found\n",
      "Processing Record | stornoway found\n",
      "Processing Record | balkhash found\n",
      "Processing Record | sioux lookout found\n",
      "Processing Record | harrisonburg found\n",
      "Processing Record | tokur found\n",
      "Processing Record | businga found\n",
      "Processing Record | kalemie found\n",
      "Processing Record | grants pass found\n",
      "Processing Record | cabra found\n",
      "Processing Record | bakel found\n",
      "Processing Record | narasapur found\n",
      "Processing Record | camacha found\n",
      "Processing Record | port blair found\n",
      "Processing Record | kazalinsk not found\n",
      "Processing Record | aktau found\n",
      "Processing Record | nguruka found\n",
      "Processing Record | chernaya kholunitsa found\n",
      "Processing Record | kovdor found\n",
      "Processing Record | djambala found\n",
      "Processing Record | padang found\n",
      "Processing Record | makakilo city found\n",
      "Processing Record | nuuk found\n",
      "Processing Record | wahran not found\n",
      "Processing Record | kavaratti found\n",
      "Processing Record | tapaua not found\n",
      "Processing Record | revuca found\n",
      "Processing Record | sao filipe found\n",
      "Processing Record | macomer found\n",
      "Processing Record | birao found\n",
      "Processing Record | sri aman found\n",
      "Processing Record | ugoofaaru found\n",
      "Processing Record | santa eulalia del rio not found\n",
      "Processing Record | gualan found\n",
      "Processing Record | price found\n",
      "Processing Record | thinadhoo found\n",
      "Processing Record | suixi found\n",
      "Processing Record | chino valley found\n",
      "Processing Record | safford found\n",
      "Processing Record | le pradet found\n",
      "Processing Record | praya found\n",
      "Processing Record | anchorage found\n",
      "Processing Record | doka found\n",
      "Processing Record | itoman found\n",
      "Processing Record | el tigre found\n",
      "Processing Record | melfi found\n",
      "Processing Record | asuncion nochixtlan found\n",
      "Processing Record | nouadhibou found\n",
      "Processing Record | kenai found\n",
      "Processing Record | toliary not found\n",
      "Processing Record | oskarshamn found\n",
      "Processing Record | phalombe found\n",
      "Processing Record | comodoro rivadavia found\n",
      "Processing Record | bandarbeyla found\n",
      "Processing Record | bodden town found\n",
      "Processing Record | samarai found\n",
      "Processing Record | sampit found\n",
      "Processing Record | kropotkin found\n",
      "Processing Record | goose creek found\n",
      "Processing Record | dolbeau not found\n",
      "Processing Record | karratha found\n",
      "Processing Record | touros found\n",
      "Processing Record | puerto carreno found\n",
      "Processing Record | mareeba found\n",
      "Processing Record | matrei not found\n",
      "Processing Record | katima mulilo found\n",
      "Processing Record | kalinovskaya found\n",
      "Processing Record | kiunga found\n",
      "Processing Record | zheleznodorozhnyy found\n",
      "Processing Record | chhukha not found\n",
      "Processing Record | uruzgan found\n",
      "Processing Record | birjand found\n",
      "Processing Record | maningrida found\n",
      "Processing Record | pingliang found\n",
      "Processing Record | bima found\n",
      "Processing Record | kigorobya found\n",
      "Processing Record | alamosa found\n",
      "Processing Record | baruun-urt found\n",
      "Processing Record | roma found\n",
      "Processing Record | los altos found\n",
      "Processing Record | yaounde found\n",
      "Processing Record | dabakala found\n",
      "Processing Record | attawapiskat not found\n",
      "Processing Record | forio found\n",
      "Processing Record | naryan-mar found\n",
      "Processing Record | mushie found\n",
      "Processing Record | sovetskiy found\n",
      "Processing Record | vila velha found\n",
      "Processing Record | marzuq found\n",
      "Processing Record | emba found\n",
      "Processing Record | mehamn found\n",
      "Processing Record | san quintin found\n",
      "Processing Record | ashtabula found\n",
      "Processing Record | carauari found\n",
      "Processing Record | waipawa found\n",
      "Processing Record | muriae found\n",
      "Processing Record | san cristobal found\n",
      "Processing Record | nhulunbuy found\n",
      "Processing Record | mandera found\n",
      "Processing Record | mount pleasant found\n",
      "Processing Record | lolua not found\n",
      "Processing Record | sakaiminato found\n",
      "Processing Record | bambanglipuro found\n",
      "Processing Record | barranca found\n",
      "Processing Record | pendra found\n",
      "Processing Record | puerto penasco found\n",
      "Processing Record | olga found\n",
      "Processing Record | jeremie found\n",
      "Processing Record | altay found\n",
      "Processing Record | gizo found\n",
      "Processing Record | hukuntsi found\n",
      "Processing Record | juniyah not found\n",
      "Processing Record | ileza found\n",
      "Processing Record | malinovoye ozero found\n",
      "Processing Record | moron found\n",
      "Processing Record | narsaq found\n",
      "Processing Record | ushtobe found\n",
      "Processing Record | taoudenni found\n",
      "Processing Record | fallon found\n",
      "Processing Record | dauphin found\n",
      "Processing Record | rawson found\n",
      "Processing Record | general roca found\n",
      "Processing Record | kuching found\n",
      "Processing Record | greenwood found\n",
      "Processing Record | karatau found\n",
      "Processing Record | zemio found\n",
      "Processing Record | singleton found\n",
      "Processing Record | katangli found\n",
      "Processing Record | lahaina found\n",
      "Processing Record | surgut found\n",
      "Processing Record | formoso do araguaia not found\n",
      "Processing Record | carutapera found\n",
      "Processing Record | la tijera found\n",
      "Processing Record | santa lucia found\n",
      "Processing Record | sungaipenuh found\n",
      "Processing Record | fernandopolis found\n",
      "Processing Record | boguchany found\n",
      "Processing Record | black river found\n",
      "Processing Record | mezen found\n",
      "Processing Record | xichang found\n",
      "Processing Record | kaitong found\n"
     ]
    }
   ],
   "source": [
    "# Save config information.\n",
    "url = \"http://api.openweathermap.org/data/2.5/weather?\"\n",
    "units = \"imperial\"\n",
    "\n",
    "# Build partial query URL\n",
    "query_url = f\"{url}appid={weather_api_key}&units={units}&q=\"\n",
    "\n",
    "# set up lists to hold response info\n",
    "lat = []\n",
    "lng = []\n",
    "temp = []\n",
    "humidity = []\n",
    "cloud = []\n",
    "wind = []\n",
    "locations = []\n",
    "max_temp = []\n",
    "\n",
    "#Print log should look like:\n",
    "print(\"Beginning Data Retrieval\")\n",
    "print(\"-------------------------\")\n",
    "\n",
    "# Loop through the list of cities and perform a request for data on each. Add to log\n",
    "\n",
    "for city in cities:\n",
    "    target_url = query_url + city\n",
    "    response = requests.get(target_url).json()\n",
    "    try:\n",
    "        lat.append(response['coord']['lat'])\n",
    "        lng.append(response['coord']['lon'])\n",
    "        temp.append(response['main']['temp'])\n",
    "        humidity.append(response['main']['humidity'])\n",
    "        cloud.append(response['clouds']['all'])\n",
    "        wind.append(response['wind']['speed'])\n",
    "        max_temp.append(response['main']['temp_max'])\n",
    "        locations.append(city)\n",
    "        print(f\"Processing Record | {city} found\")\n",
    "    except KeyError:\n",
    "        print(f\"Processing Record | {city} not found\")\n",
    "        pass\n",
    "    "
   ]
  },
  {
   "cell_type": "markdown",
   "metadata": {},
   "source": [
    "### Convert Raw Data to DataFrame\n",
    "* Export the city data into a .csv.\n",
    "* Display the DataFrame"
   ]
  },
  {
   "cell_type": "code",
   "execution_count": 4,
   "metadata": {},
   "outputs": [
    {
     "data": {
      "text/html": [
       "<div>\n",
       "<style scoped>\n",
       "    .dataframe tbody tr th:only-of-type {\n",
       "        vertical-align: middle;\n",
       "    }\n",
       "\n",
       "    .dataframe tbody tr th {\n",
       "        vertical-align: top;\n",
       "    }\n",
       "\n",
       "    .dataframe thead th {\n",
       "        text-align: right;\n",
       "    }\n",
       "</style>\n",
       "<table border=\"1\" class=\"dataframe\">\n",
       "  <thead>\n",
       "    <tr style=\"text-align: right;\">\n",
       "      <th></th>\n",
       "      <th>City</th>\n",
       "      <th>Latitude</th>\n",
       "      <th>Longitude</th>\n",
       "      <th>Temperature</th>\n",
       "      <th>Humidity</th>\n",
       "      <th>Cloudiness</th>\n",
       "      <th>Wind Speed</th>\n",
       "      <th>Max Temp</th>\n",
       "    </tr>\n",
       "  </thead>\n",
       "  <tbody>\n",
       "    <tr>\n",
       "      <th>0</th>\n",
       "      <td>male</td>\n",
       "      <td>4.17</td>\n",
       "      <td>73.51</td>\n",
       "      <td>82.40</td>\n",
       "      <td>69</td>\n",
       "      <td>5</td>\n",
       "      <td>12.75</td>\n",
       "      <td>82.40</td>\n",
       "    </tr>\n",
       "    <tr>\n",
       "      <th>1</th>\n",
       "      <td>la mira</td>\n",
       "      <td>18.04</td>\n",
       "      <td>-102.33</td>\n",
       "      <td>73.98</td>\n",
       "      <td>83</td>\n",
       "      <td>90</td>\n",
       "      <td>8.03</td>\n",
       "      <td>73.98</td>\n",
       "    </tr>\n",
       "    <tr>\n",
       "      <th>2</th>\n",
       "      <td>henties bay</td>\n",
       "      <td>-22.12</td>\n",
       "      <td>14.28</td>\n",
       "      <td>63.00</td>\n",
       "      <td>92</td>\n",
       "      <td>73</td>\n",
       "      <td>1.99</td>\n",
       "      <td>63.00</td>\n",
       "    </tr>\n",
       "    <tr>\n",
       "      <th>3</th>\n",
       "      <td>rikitea</td>\n",
       "      <td>-23.12</td>\n",
       "      <td>-134.97</td>\n",
       "      <td>79.14</td>\n",
       "      <td>79</td>\n",
       "      <td>100</td>\n",
       "      <td>13.82</td>\n",
       "      <td>79.14</td>\n",
       "    </tr>\n",
       "    <tr>\n",
       "      <th>4</th>\n",
       "      <td>cape town</td>\n",
       "      <td>-33.93</td>\n",
       "      <td>18.42</td>\n",
       "      <td>64.69</td>\n",
       "      <td>72</td>\n",
       "      <td>58</td>\n",
       "      <td>20.80</td>\n",
       "      <td>68.00</td>\n",
       "    </tr>\n",
       "  </tbody>\n",
       "</table>\n",
       "</div>"
      ],
      "text/plain": [
       "          City  Latitude  Longitude  Temperature  Humidity  Cloudiness  \\\n",
       "0         male      4.17      73.51        82.40        69           5   \n",
       "1      la mira     18.04    -102.33        73.98        83          90   \n",
       "2  henties bay    -22.12      14.28        63.00        92          73   \n",
       "3      rikitea    -23.12    -134.97        79.14        79         100   \n",
       "4    cape town    -33.93      18.42        64.69        72          58   \n",
       "\n",
       "   Wind Speed  Max Temp  \n",
       "0       12.75     82.40  \n",
       "1        8.03     73.98  \n",
       "2        1.99     63.00  \n",
       "3       13.82     79.14  \n",
       "4       20.80     68.00  "
      ]
     },
     "execution_count": 4,
     "metadata": {},
     "output_type": "execute_result"
    }
   ],
   "source": [
    "# create a data frame from lists generated\n",
    "weather_dict = {\n",
    "    \"City\": locations,\n",
    "    \"Latitude\": lat,\n",
    "    \"Longitude\": lng,\n",
    "    \"Temperature\": temp,\n",
    "    \"Humidity\": humidity,\n",
    "    \"Cloudiness\": cloud, \n",
    "    \"Wind Speed\": wind,\n",
    "    \"Max Temp\": max_temp\n",
    "}\n",
    "weather_data = pd.DataFrame(weather_dict)\n",
    "weather_data.head()"
   ]
  },
  {
   "cell_type": "code",
   "execution_count": 5,
   "metadata": {},
   "outputs": [],
   "source": [
    "#export the city data into a csv\n",
    "weather_data.to_csv('weather_data',index=False)"
   ]
  },
  {
   "cell_type": "markdown",
   "metadata": {},
   "source": [
    "### Plotting the Data\n",
    "* Use proper labeling of the plots using plot titles (including date of analysis) and axes labels.\n",
    "* Save the plotted figures as .pngs."
   ]
  },
  {
   "cell_type": "markdown",
   "metadata": {},
   "source": [
    "#### Latitude vs. Temperature Plot"
   ]
  },
  {
   "cell_type": "code",
   "execution_count": 6,
   "metadata": {
    "scrolled": true
   },
   "outputs": [
    {
     "data": {
      "image/png": "[encoded data removed]",
      "text/plain": [
       "<Figure size 432x288 with 1 Axes>"
      ]
     },
     "metadata": {
      "needs_background": "light"
     },
     "output_type": "display_data"
    },
    {
     "data": {
      "text/plain": [
       "<Figure size 432x288 with 0 Axes>"
      ]
     },
     "metadata": {},
     "output_type": "display_data"
    }
   ],
   "source": [
    "# Create a Scatter Plot for latitude vs temperature\n",
    "x_values = weather_data['Latitude']\n",
    "y_values = weather_data['Temperature']\n",
    "plt.scatter(x_values,y_values)\n",
    "plt.xlabel('Latitude')\n",
    "plt.ylabel('Temperature (F)')\n",
    "plt.title(('Temperature (F) vs. Latitude') + \" \" + pd.datetime.now().strftime(\"%m/%d/%Y\"))\n",
    "plt.show()\n",
    "plt.savefig('temperature_latitude')"
   ]
  },
  {
   "cell_type": "markdown",
   "metadata": {},
   "source": [
    "Observation: It appears that latitudes that are located in the southern hemisphere are currently experiencing warmer weather than those in the northern hemisphere, which ultimately makes sense since those of us in the northern hemisphere are experiencing winter currently, while those in the southern hemisphere are experiencing summer.\n"
   ]
  },
  {
   "cell_type": "markdown",
   "metadata": {},
   "source": [
    "#### Latitude vs. Humidity Plot"
   ]
  },
  {
   "cell_type": "code",
   "execution_count": 7,
   "metadata": {},
   "outputs": [
    {
     "data": {
      "image/png": "[encoded data removed]",
      "text/plain": [
       "<Figure size 432x288 with 1 Axes>"
      ]
     },
     "metadata": {
      "needs_background": "light"
     },
     "output_type": "display_data"
    },
    {
     "data": {
      "text/plain": [
       "<Figure size 432x288 with 0 Axes>"
      ]
     },
     "metadata": {},
     "output_type": "display_data"
    }
   ],
   "source": [
    "# Create a Scatter Plot for latitude vs humidity\n",
    "x_values = weather_data['Latitude']\n",
    "y_values1 = weather_data['Humidity']\n",
    "plt.scatter(x_values,y_values1)\n",
    "plt.xlabel('Latitude')\n",
    "plt.ylabel('Humidity (%)')\n",
    "plt.title(('Humidity (%) vs. Latitude') + \" \" + pd.datetime.now().strftime(\"%m/%d/%Y\"))\n",
    "plt.show()\n",
    "plt.savefig('humidity_latitude')"
   ]
  },
  {
   "cell_type": "markdown",
   "metadata": {},
   "source": [
    "Observation:  It appears that there is no real relationship between latitude and humidity.  This makes sense as the Earth has various environments with an array of humidities (desert, wetland, rainforest, etc.) that aren't necessarily dictated by the latitude of the location. "
   ]
  },
  {
   "cell_type": "markdown",
   "metadata": {},
   "source": [
    "#### Latitude vs. Cloudiness Plot"
   ]
  },
  {
   "cell_type": "code",
   "execution_count": 8,
   "metadata": {},
   "outputs": [
    {
     "data": {
      "image/png": "[encoded data removed]",
      "text/plain": [
       "<Figure size 432x288 with 1 Axes>"
      ]
     },
     "metadata": {
      "needs_background": "light"
     },
     "output_type": "display_data"
    },
    {
     "data": {
      "text/plain": [
       "<Figure size 432x288 with 0 Axes>"
      ]
     },
     "metadata": {},
     "output_type": "display_data"
    }
   ],
   "source": [
    "# Create a Scatter Plot for latitude vs cloudiness\n",
    "x_values = weather_data['Latitude']\n",
    "y_values2 = weather_data['Cloudiness']\n",
    "plt.scatter(x_values,y_values2)\n",
    "plt.xlabel('Latitude')\n",
    "plt.ylabel('Cloudiness (%)')\n",
    "plt.title(('Cloudiness (%) vs. Latitude') + \" \" + pd.datetime.now().strftime(\"%m/%d/%Y\"))\n",
    "plt.show()\n",
    "plt.savefig('cloudiness_latitude')"
   ]
  },
  {
   "cell_type": "markdown",
   "metadata": {},
   "source": [
    "Observation: This graph has really distinct lines running through it at distinct cloudiness percentages.  My hypothesis is that cloudiness is reported at those intervals a majority of the time."
   ]
  },
  {
   "cell_type": "markdown",
   "metadata": {},
   "source": [
    "#### Latitude vs. Wind Speed Plot"
   ]
  },
  {
   "cell_type": "code",
   "execution_count": 9,
   "metadata": {},
   "outputs": [
    {
     "data": {
      "image/png": "[encoded data removed]",
      "text/plain": [
       "<Figure size 432x288 with 1 Axes>"
      ]
     },
     "metadata": {
      "needs_background": "light"
     },
     "output_type": "display_data"
    },
    {
     "data": {
      "text/plain": [
       "<Figure size 432x288 with 0 Axes>"
      ]
     },
     "metadata": {},
     "output_type": "display_data"
    }
   ],
   "source": [
    "# Create a Scatter Plot for latitude vs wind speed\n",
    "x_values = weather_data['Latitude']\n",
    "y_values3 = weather_data['Wind Speed']\n",
    "plt.scatter(x_values,y_values3)\n",
    "plt.xlabel('Latitude')\n",
    "plt.ylabel('Wind Speed (mph)')\n",
    "plt.title(('Wind Speed (mph) vs. Latitude') + \" \" + pd.datetime.now().strftime(\"%m/%d/%Y\"))\n",
    "plt.show()\n",
    "plt.savefig('wind speed_latitude')"
   ]
  },
  {
   "cell_type": "markdown",
   "metadata": {},
   "source": [
    "Observation: Once again, it does not look like there is an obvious relationship between wind speed and latitude.  Most locations have a wind speed of 25 mph or less.  "
   ]
  },
  {
   "cell_type": "markdown",
   "metadata": {},
   "source": [
    "## Linear Regression"
   ]
  },
  {
   "cell_type": "code",
   "execution_count": 10,
   "metadata": {},
   "outputs": [],
   "source": [
    "# OPTIONAL: Create a function to create Linear Regression plots\n"
   ]
  },
  {
   "cell_type": "code",
   "execution_count": 11,
   "metadata": {},
   "outputs": [
    {
     "data": {
      "text/html": [
       "<div>\n",
       "<style scoped>\n",
       "    .dataframe tbody tr th:only-of-type {\n",
       "        vertical-align: middle;\n",
       "    }\n",
       "\n",
       "    .dataframe tbody tr th {\n",
       "        vertical-align: top;\n",
       "    }\n",
       "\n",
       "    .dataframe thead th {\n",
       "        text-align: right;\n",
       "    }\n",
       "</style>\n",
       "<table border=\"1\" class=\"dataframe\">\n",
       "  <thead>\n",
       "    <tr style=\"text-align: right;\">\n",
       "      <th></th>\n",
       "      <th>City</th>\n",
       "      <th>Latitude</th>\n",
       "      <th>Longitude</th>\n",
       "      <th>Temperature</th>\n",
       "      <th>Humidity</th>\n",
       "      <th>Cloudiness</th>\n",
       "      <th>Wind Speed</th>\n",
       "      <th>Max Temp</th>\n",
       "    </tr>\n",
       "  </thead>\n",
       "  <tbody>\n",
       "    <tr>\n",
       "      <th>0</th>\n",
       "      <td>male</td>\n",
       "      <td>4.17</td>\n",
       "      <td>73.51</td>\n",
       "      <td>82.40</td>\n",
       "      <td>69</td>\n",
       "      <td>5</td>\n",
       "      <td>12.75</td>\n",
       "      <td>82.40</td>\n",
       "    </tr>\n",
       "    <tr>\n",
       "      <th>1</th>\n",
       "      <td>la mira</td>\n",
       "      <td>18.04</td>\n",
       "      <td>-102.33</td>\n",
       "      <td>73.98</td>\n",
       "      <td>83</td>\n",
       "      <td>90</td>\n",
       "      <td>8.03</td>\n",
       "      <td>73.98</td>\n",
       "    </tr>\n",
       "    <tr>\n",
       "      <th>5</th>\n",
       "      <td>terralba</td>\n",
       "      <td>39.72</td>\n",
       "      <td>8.64</td>\n",
       "      <td>48.20</td>\n",
       "      <td>100</td>\n",
       "      <td>10</td>\n",
       "      <td>6.93</td>\n",
       "      <td>48.20</td>\n",
       "    </tr>\n",
       "    <tr>\n",
       "      <th>6</th>\n",
       "      <td>katsuura</td>\n",
       "      <td>35.13</td>\n",
       "      <td>140.30</td>\n",
       "      <td>53.24</td>\n",
       "      <td>34</td>\n",
       "      <td>20</td>\n",
       "      <td>18.34</td>\n",
       "      <td>53.60</td>\n",
       "    </tr>\n",
       "    <tr>\n",
       "      <th>8</th>\n",
       "      <td>ribeira grande</td>\n",
       "      <td>38.52</td>\n",
       "      <td>-28.70</td>\n",
       "      <td>61.27</td>\n",
       "      <td>89</td>\n",
       "      <td>100</td>\n",
       "      <td>21.99</td>\n",
       "      <td>61.27</td>\n",
       "    </tr>\n",
       "  </tbody>\n",
       "</table>\n",
       "</div>"
      ],
      "text/plain": [
       "             City  Latitude  Longitude  Temperature  Humidity  Cloudiness  \\\n",
       "0            male      4.17      73.51        82.40        69           5   \n",
       "1         la mira     18.04    -102.33        73.98        83          90   \n",
       "5        terralba     39.72       8.64        48.20       100          10   \n",
       "6        katsuura     35.13     140.30        53.24        34          20   \n",
       "8  ribeira grande     38.52     -28.70        61.27        89         100   \n",
       "\n",
       "   Wind Speed  Max Temp  \n",
       "0       12.75     82.40  \n",
       "1        8.03     73.98  \n",
       "5        6.93     48.20  \n",
       "6       18.34     53.60  \n",
       "8       21.99     61.27  "
      ]
     },
     "execution_count": 11,
     "metadata": {},
     "output_type": "execute_result"
    }
   ],
   "source": [
    "# Create Northern Hemisphere DataFrame\n",
    "northern_df = weather_data.loc[weather_data['Latitude'] > 0 ]\n",
    "northern_df.head()"
   ]
  },
  {
   "cell_type": "code",
   "execution_count": 12,
   "metadata": {},
   "outputs": [
    {
     "data": {
      "text/html": [
       "<div>\n",
       "<style scoped>\n",
       "    .dataframe tbody tr th:only-of-type {\n",
       "        vertical-align: middle;\n",
       "    }\n",
       "\n",
       "    .dataframe tbody tr th {\n",
       "        vertical-align: top;\n",
       "    }\n",
       "\n",
       "    .dataframe thead th {\n",
       "        text-align: right;\n",
       "    }\n",
       "</style>\n",
       "<table border=\"1\" class=\"dataframe\">\n",
       "  <thead>\n",
       "    <tr style=\"text-align: right;\">\n",
       "      <th></th>\n",
       "      <th>City</th>\n",
       "      <th>Latitude</th>\n",
       "      <th>Longitude</th>\n",
       "      <th>Temperature</th>\n",
       "      <th>Humidity</th>\n",
       "      <th>Cloudiness</th>\n",
       "      <th>Wind Speed</th>\n",
       "      <th>Max Temp</th>\n",
       "    </tr>\n",
       "  </thead>\n",
       "  <tbody>\n",
       "    <tr>\n",
       "      <th>2</th>\n",
       "      <td>henties bay</td>\n",
       "      <td>-22.12</td>\n",
       "      <td>14.28</td>\n",
       "      <td>63.00</td>\n",
       "      <td>92</td>\n",
       "      <td>73</td>\n",
       "      <td>1.99</td>\n",
       "      <td>63.00</td>\n",
       "    </tr>\n",
       "    <tr>\n",
       "      <th>3</th>\n",
       "      <td>rikitea</td>\n",
       "      <td>-23.12</td>\n",
       "      <td>-134.97</td>\n",
       "      <td>79.14</td>\n",
       "      <td>79</td>\n",
       "      <td>100</td>\n",
       "      <td>13.82</td>\n",
       "      <td>79.14</td>\n",
       "    </tr>\n",
       "    <tr>\n",
       "      <th>4</th>\n",
       "      <td>cape town</td>\n",
       "      <td>-33.93</td>\n",
       "      <td>18.42</td>\n",
       "      <td>64.69</td>\n",
       "      <td>72</td>\n",
       "      <td>58</td>\n",
       "      <td>20.80</td>\n",
       "      <td>68.00</td>\n",
       "    </tr>\n",
       "    <tr>\n",
       "      <th>7</th>\n",
       "      <td>busselton</td>\n",
       "      <td>-33.65</td>\n",
       "      <td>115.33</td>\n",
       "      <td>75.24</td>\n",
       "      <td>22</td>\n",
       "      <td>0</td>\n",
       "      <td>8.59</td>\n",
       "      <td>78.01</td>\n",
       "    </tr>\n",
       "    <tr>\n",
       "      <th>11</th>\n",
       "      <td>namibe</td>\n",
       "      <td>-15.20</td>\n",
       "      <td>12.15</td>\n",
       "      <td>75.43</td>\n",
       "      <td>88</td>\n",
       "      <td>100</td>\n",
       "      <td>1.12</td>\n",
       "      <td>75.43</td>\n",
       "    </tr>\n",
       "  </tbody>\n",
       "</table>\n",
       "</div>"
      ],
      "text/plain": [
       "           City  Latitude  Longitude  Temperature  Humidity  Cloudiness  \\\n",
       "2   henties bay    -22.12      14.28        63.00        92          73   \n",
       "3       rikitea    -23.12    -134.97        79.14        79         100   \n",
       "4     cape town    -33.93      18.42        64.69        72          58   \n",
       "7     busselton    -33.65     115.33        75.24        22           0   \n",
       "11       namibe    -15.20      12.15        75.43        88         100   \n",
       "\n",
       "    Wind Speed  Max Temp  \n",
       "2         1.99     63.00  \n",
       "3        13.82     79.14  \n",
       "4        20.80     68.00  \n",
       "7         8.59     78.01  \n",
       "11        1.12     75.43  "
      ]
     },
     "execution_count": 12,
     "metadata": {},
     "output_type": "execute_result"
    }
   ],
   "source": [
    "# Create Southern Hemisphere DataFrame\n",
    "southern_df = weather_data.loc[weather_data['Latitude'] < 0 ]\n",
    "southern_df.head()"
   ]
  },
  {
   "cell_type": "markdown",
   "metadata": {},
   "source": [
    "####  Northern Hemisphere - Max Temp vs. Latitude Linear Regression"
   ]
  },
  {
   "cell_type": "code",
   "execution_count": 13,
   "metadata": {},
   "outputs": [
    {
     "name": "stdout",
     "output_type": "stream",
     "text": [
      "The r-squared is: 0.762\n"
     ]
    },
    {
     "data": {
      "image/png": "[encoded data removed]",
      "text/plain": [
       "<Figure size 432x288 with 1 Axes>"
      ]
     },
     "metadata": {
      "needs_background": "light"
     },
     "output_type": "display_data"
    },
    {
     "data": {
      "text/plain": [
       "<Figure size 432x288 with 0 Axes>"
      ]
     },
     "metadata": {},
     "output_type": "display_data"
    }
   ],
   "source": [
    "#x & y\n",
    "north_lat = northern_df['Latitude']\n",
    "north_max_temp = northern_df['Max Temp']\n",
    "\n",
    "# Perform a linear regression on temperature vs. latitude\n",
    "(slope, intercept, rvalue, pvalue, stderr) = linregress(north_lat, north_max_temp)\n",
    "\n",
    "# Get regression values\n",
    "regress_values = north_lat * slope + intercept\n",
    "\n",
    "# Create line equation string\n",
    "line_eq = \"y = \" + str(round(slope,2)) + \"x +\" + str(round(intercept,2))\n",
    "\n",
    "# Create Plot\n",
    "plt.scatter(north_lat,north_max_temp)\n",
    "plt.plot(north_lat,regress_values,\"r-\")\n",
    "\n",
    "# Label plot and annotate the line equation\n",
    "plt.xlabel('Latitude')\n",
    "plt.ylabel('Max Temperature (F)')\n",
    "plt.title(('Northern Hemisphere Max Temp (F) vs. Latitude') + \" \" + pd.datetime.now().strftime(\"%m/%d/%Y\"))\n",
    "plt.annotate(line_eq,(10,-30),fontsize=15,color=\"red\")\n",
    "\n",
    "# Print r square value\n",
    "rvalue2 = round(rvalue * rvalue,3)\n",
    "print(f\"The r-squared is: {rvalue2}\")\n",
    "\n",
    "# Show plot\n",
    "plt.show()\n",
    "plt.savefig('north_maxtemp_latitude')"
   ]
  },
  {
   "cell_type": "markdown",
   "metadata": {},
   "source": [
    "Observation: There is a fairly strong negative linear relationship between northern hemisphere latitude and max temperature.  That being said, I believe that when the season changes and it is summer again, the linear relationship will likely go away because there won't be as extreme of temperature difference between the latitudes.  This relationship is dynamic."
   ]
  },
  {
   "cell_type": "markdown",
   "metadata": {},
   "source": [
    "####  Southern Hemisphere - Max Temp vs. Latitude Linear Regression"
   ]
  },
  {
   "cell_type": "code",
   "execution_count": 15,
   "metadata": {},
   "outputs": [
    {
     "name": "stdout",
     "output_type": "stream",
     "text": [
      "The r-squared is: 0.028\n"
     ]
    },
    {
     "data": {
      "image/png": "[encoded data removed]",
      "text/plain": [
       "<Figure size 432x288 with 1 Axes>"
      ]
     },
     "metadata": {
      "needs_background": "light"
     },
     "output_type": "display_data"
    },
    {
     "data": {
      "text/plain": [
       "<Figure size 432x288 with 0 Axes>"
      ]
     },
     "metadata": {},
     "output_type": "display_data"
    }
   ],
   "source": [
    "#x & y\n",
    "south_lat = southern_df['Latitude']\n",
    "south_max_temp = southern_df['Max Temp']\n",
    "\n",
    "# Perform a linear regression on temperature vs. latitude\n",
    "(slope, intercept, rvalue, pvalue, stderr) = linregress(south_lat, south_max_temp)\n",
    "\n",
    "# Get regression values\n",
    "regress_values = south_lat * slope + intercept\n",
    "\n",
    "# Create line equation string\n",
    "line_eq = \"y = \" + str(round(slope,2)) + \"x +\" + str(round(intercept,2))\n",
    "\n",
    "# Create Plot\n",
    "plt.scatter(south_lat,south_max_temp)\n",
    "plt.plot(south_lat,regress_values,\"r-\")\n",
    "\n",
    "# Label plot and annotate the line equation\n",
    "plt.xlabel('Latitude')\n",
    "plt.ylabel('Max Temperature (F)')\n",
    "plt.title(('Southern Hemisphere Max Temp (F) vs. Latitude') + \" \" + pd.datetime.now().strftime(\"%m/%d/%Y\"))\n",
    "plt.annotate(line_eq,(-45,50),fontsize=15,color=\"red\")\n",
    "\n",
    "# Print r square value\n",
    "rvalue2 = round(rvalue * rvalue,3)\n",
    "print(f\"The r-squared is: {rvalue2}\")\n",
    "\n",
    "# Show plot\n",
    "plt.show()\n",
    "plt.savefig('south_maxtemp_latitude')"
   ]
  },
  {
   "cell_type": "markdown",
   "metadata": {},
   "source": [
    "Observation: It appears there is no relationship between max temp and latitude in the southern hemisphere.  This is likely because it is summer there now and there is less of a difference in temperature across latitude in the summer than in the winter time.  Once again, I predict this changes into a positive linear relationship in the winter time.  This relationship is dynamic."
   ]
  },
  {
   "cell_type": "markdown",
   "metadata": {},
   "source": [
    "####  Northern Hemisphere - Humidity (%) vs. Latitude Linear Regression"
   ]
  },
  {
   "cell_type": "code",
   "execution_count": 16,
   "metadata": {},
   "outputs": [
    {
     "name": "stdout",
     "output_type": "stream",
     "text": [
      "The r-squared is: 0.185\n"
     ]
    },
    {
     "data": {
      "image/png": "[encoded data removed]",
      "text/plain": [
       "<Figure size 432x288 with 1 Axes>"
      ]
     },
     "metadata": {
      "needs_background": "light"
     },
     "output_type": "display_data"
    },
    {
     "data": {
      "text/plain": [
       "<Figure size 432x288 with 0 Axes>"
      ]
     },
     "metadata": {},
     "output_type": "display_data"
    }
   ],
   "source": [
    "#x & y\n",
    "north_humid = northern_df['Humidity']\n",
    "\n",
    "# Perform a linear regression on temperature vs. latitude\n",
    "(slope, intercept, rvalue, pvalue, stderr) = linregress(north_lat, north_humid)\n",
    "\n",
    "# Get regression values\n",
    "regress_values = north_lat * slope + intercept\n",
    "\n",
    "# Create line equation string\n",
    "line_eq = \"y = \" + str(round(slope,2)) + \"x +\" + str(round(intercept,2))\n",
    "\n",
    "# Create Plot\n",
    "plt.scatter(north_lat,north_humid)\n",
    "plt.plot(north_lat,regress_values,\"r-\")\n",
    "\n",
    "# Label plot and annotate the line equation\n",
    "plt.xlabel('Latitude')\n",
    "plt.ylabel('Humidity (%)')\n",
    "plt.title(('Northern Hemisphere Humidity (%) vs. Latitude') + \" \" + pd.datetime.now().strftime(\"%m/%d/%Y\"))\n",
    "plt.annotate(line_eq,(40,20),fontsize=15,color=\"red\")\n",
    "\n",
    "# Print r square value\n",
    "rvalue2 = round(rvalue * rvalue,3)\n",
    "print(f\"The r-squared is: {rvalue2}\")\n",
    "\n",
    "# Show plot\n",
    "plt.show()\n",
    "plt.savefig('north_humidity_latitude')"
   ]
  },
  {
   "cell_type": "markdown",
   "metadata": {},
   "source": [
    "Observation: There is not a significant relationship between humidity and latitude in either the northern or southern hemispheres."
   ]
  },
  {
   "cell_type": "markdown",
   "metadata": {},
   "source": [
    "####  Southern Hemisphere - Humidity (%) vs. Latitude Linear Regression"
   ]
  },
  {
   "cell_type": "code",
   "execution_count": 17,
   "metadata": {},
   "outputs": [
    {
     "name": "stdout",
     "output_type": "stream",
     "text": [
      "The r-squared is: 0.106\n"
     ]
    },
    {
     "data": {
      "image/png": "[encoded data removed]",
      "text/plain": [
       "<Figure size 432x288 with 1 Axes>"
      ]
     },
     "metadata": {
      "needs_background": "light"
     },
     "output_type": "display_data"
    },
    {
     "data": {
      "text/plain": [
       "<Figure size 432x288 with 0 Axes>"
      ]
     },
     "metadata": {},
     "output_type": "display_data"
    }
   ],
   "source": [
    "#x & y\n",
    "south_humid = southern_df['Humidity']\n",
    "\n",
    "# Perform a linear regression on temperature vs. latitude\n",
    "(slope, intercept, rvalue, pvalue, stderr) = linregress(south_lat, south_humid)\n",
    "\n",
    "# Get regression values\n",
    "regress_values = south_lat * slope + intercept\n",
    "\n",
    "# Create line equation string\n",
    "line_eq = \"y = \" + str(round(slope,2)) + \"x +\" + str(round(intercept,2))\n",
    "\n",
    "# Create Plot\n",
    "plt.scatter(south_lat,south_humid)\n",
    "plt.plot(south_lat,regress_values,\"r-\")\n",
    "\n",
    "# Label plot and annotate the line equation\n",
    "plt.xlabel('Latitude')\n",
    "plt.ylabel('Humidity (%)')\n",
    "plt.title(('Southern Hemisphere Humidity (%) vs. Latitude') + \" \" + pd.datetime.now().strftime(\"%m/%d/%Y\"))\n",
    "plt.annotate(line_eq,(-40,20),fontsize=15,color=\"red\")\n",
    "\n",
    "# Print r square value\n",
    "rvalue2 = round(rvalue * rvalue,3)\n",
    "print(f\"The r-squared is: {rvalue2}\")\n",
    "\n",
    "# Show plot\n",
    "plt.show()\n",
    "plt.savefig('south_humidity_latitude')"
   ]
  },
  {
   "cell_type": "markdown",
   "metadata": {},
   "source": [
    "Observation: There is not a significant relationship between humidity and latitude in either the northern or southern hemispheres."
   ]
  },
  {
   "cell_type": "markdown",
   "metadata": {},
   "source": [
    "####  Northern Hemisphere - Cloudiness (%) vs. Latitude Linear Regression"
   ]
  },
  {
   "cell_type": "code",
   "execution_count": 18,
   "metadata": {},
   "outputs": [
    {
     "name": "stdout",
     "output_type": "stream",
     "text": [
      "The r-squared is: 0.065\n"
     ]
    },
    {
     "data": {
      "image/png": "[encoded data removed]",
      "text/plain": [
       "<Figure size 432x288 with 1 Axes>"
      ]
     },
     "metadata": {
      "needs_background": "light"
     },
     "output_type": "display_data"
    },
    {
     "data": {
      "text/plain": [
       "<Figure size 432x288 with 0 Axes>"
      ]
     },
     "metadata": {},
     "output_type": "display_data"
    }
   ],
   "source": [
    "#x & y\n",
    "north_cloud = northern_df['Cloudiness']\n",
    "\n",
    "# Perform a linear regression on temperature vs. latitude\n",
    "(slope, intercept, rvalue, pvalue, stderr) = linregress(north_lat, north_cloud)\n",
    "\n",
    "# Get regression values\n",
    "regress_values = north_lat * slope + intercept\n",
    "\n",
    "# Create line equation string\n",
    "line_eq = \"y = \" + str(round(slope,2)) + \"x +\" + str(round(intercept,2))\n",
    "\n",
    "# Create Plot\n",
    "plt.scatter(north_lat,north_cloud)\n",
    "plt.plot(north_lat,regress_values,\"r-\")\n",
    "\n",
    "# Label plot and annotate the line equation\n",
    "plt.xlabel('Latitude')\n",
    "plt.ylabel('Cloudiness (%)')\n",
    "plt.title(('Northern Hemisphere Cloudiness (%) vs. Latitude') + \" \" + pd.datetime.now().strftime(\"%m/%d/%Y\"))\n",
    "plt.annotate(line_eq,(40,30),fontsize=15,color=\"red\")\n",
    "\n",
    "# Print r square value\n",
    "rvalue2 = round(rvalue * rvalue,3)\n",
    "print(f\"The r-squared is: {rvalue2}\")\n",
    "\n",
    "# Show plot\n",
    "plt.show()\n",
    "plt.savefig('north_cloud_latitude')"
   ]
  },
  {
   "cell_type": "markdown",
   "metadata": {},
   "source": [
    "Observation:  There really is no significant relationship between cloudiness and latitude for either the northern or southern hemispheres.  Once again there appears to be lines across the graph which may be due to how cloudiness is reported."
   ]
  },
  {
   "cell_type": "markdown",
   "metadata": {},
   "source": [
    "####  Southern Hemisphere - Cloudiness (%) vs. Latitude Linear Regression"
   ]
  },
  {
   "cell_type": "code",
   "execution_count": 19,
   "metadata": {},
   "outputs": [
    {
     "name": "stdout",
     "output_type": "stream",
     "text": [
      "The r-squared is: 0.086\n"
     ]
    },
    {
     "data": {
      "image/png": "[encoded data removed]",
      "text/plain": [
       "<Figure size 432x288 with 1 Axes>"
      ]
     },
     "metadata": {
      "needs_background": "light"
     },
     "output_type": "display_data"
    },
    {
     "data": {
      "text/plain": [
       "<Figure size 432x288 with 0 Axes>"
      ]
     },
     "metadata": {},
     "output_type": "display_data"
    }
   ],
   "source": [
    "#x & y\n",
    "south_cloud = southern_df['Cloudiness']\n",
    "\n",
    "# Perform a linear regression on temperature vs. latitude\n",
    "(slope, intercept, rvalue, pvalue, stderr) = linregress(south_lat, south_cloud)\n",
    "\n",
    "# Get regression values\n",
    "regress_values = south_lat * slope + intercept\n",
    "\n",
    "# Create line equation string\n",
    "line_eq = \"y = \" + str(round(slope,2)) + \"x +\" + str(round(intercept,2))\n",
    "\n",
    "# Create Plot\n",
    "plt.scatter(south_lat,south_cloud)\n",
    "plt.plot(south_lat,regress_values,\"r-\")\n",
    "\n",
    "# Label plot and annotate the line equation\n",
    "plt.xlabel('Latitude')\n",
    "plt.ylabel('Cloudiness (%)')\n",
    "plt.title(('Southern Hemisphere Cloudiness (%) vs. Latitude') + \" \" + pd.datetime.now().strftime(\"%m/%d/%Y\"))\n",
    "plt.annotate(line_eq,(-50,80),fontsize=15,color=\"red\")\n",
    "\n",
    "# Print r square value\n",
    "rvalue2 = round(rvalue * rvalue,3)\n",
    "print(f\"The r-squared is: {rvalue2}\")\n",
    "\n",
    "# Show plot\n",
    "plt.show()\n",
    "plt.savefig('south_cloud_latitude')"
   ]
  },
  {
   "cell_type": "markdown",
   "metadata": {},
   "source": [
    "Observation:  There really is no significant relationship between cloudiness and latitude for either the northern or southern hemispheres.  Once again there appears to be lines across the graph which may be due to how cloudiness is reported."
   ]
  },
  {
   "cell_type": "markdown",
   "metadata": {},
   "source": [
    "####  Northern Hemisphere - Wind Speed (mph) vs. Latitude Linear Regression"
   ]
  },
  {
   "cell_type": "code",
   "execution_count": 21,
   "metadata": {},
   "outputs": [
    {
     "name": "stdout",
     "output_type": "stream",
     "text": [
      "The r-squared is: 0.005\n"
     ]
    },
    {
     "data": {
      "image/png": "[encoded data removed]",
      "text/plain": [
       "<Figure size 432x288 with 1 Axes>"
      ]
     },
     "metadata": {
      "needs_background": "light"
     },
     "output_type": "display_data"
    },
    {
     "data": {
      "text/plain": [
       "<Figure size 432x288 with 0 Axes>"
      ]
     },
     "metadata": {},
     "output_type": "display_data"
    }
   ],
   "source": [
    "#x & y\n",
    "north_wind = northern_df['Wind Speed']\n",
    "\n",
    "# Perform a linear regression on temperature vs. latitude\n",
    "(slope, intercept, rvalue, pvalue, stderr) = linregress(north_lat, north_wind)\n",
    "\n",
    "# Get regression values\n",
    "regress_values = north_lat * slope + intercept\n",
    "\n",
    "# Create line equation string\n",
    "line_eq = \"y = \" + str(round(slope,2)) + \"x +\" + str(round(intercept,2))\n",
    "\n",
    "# Create Plot\n",
    "plt.scatter(north_lat,north_wind)\n",
    "plt.plot(north_lat,regress_values,\"r-\")\n",
    "\n",
    "# Label plot and annotate the line equation\n",
    "plt.xlabel('Latitude')\n",
    "plt.ylabel('Wind Speed (mph)')\n",
    "plt.title(('Northern Hemisphere Wind Speed (mph) vs. Latitude') + \" \" + pd.datetime.now().strftime(\"%m/%d/%Y\"))\n",
    "plt.annotate(line_eq,(20,30),fontsize=15,color=\"red\")\n",
    "\n",
    "# Print r square value\n",
    "rvalue2 = round(rvalue * rvalue,3)\n",
    "print(f\"The r-squared is: {rvalue2}\")\n",
    "\n",
    "# Show plot\n",
    "plt.show()\n",
    "plt.savefig('north_wind_latitude')"
   ]
  },
  {
   "cell_type": "markdown",
   "metadata": {},
   "source": [
    "Observation:  There really is no significant relationship between wind speed and latitude for either the northern or southern hemispheres.  Once again, most speeds fall under 25 miles per hour, but there is no obvious pattern otherwise."
   ]
  },
  {
   "cell_type": "markdown",
   "metadata": {},
   "source": [
    "####  Southern Hemisphere - Wind Speed (mph) vs. Latitude Linear Regression"
   ]
  },
  {
   "cell_type": "code",
   "execution_count": 24,
   "metadata": {},
   "outputs": [
    {
     "name": "stdout",
     "output_type": "stream",
     "text": [
      "The r-squared is: 0.137\n"
     ]
    },
    {
     "data": {
      "image/png": "[encoded data removed]",
      "text/plain": [
       "<Figure size 432x288 with 1 Axes>"
      ]
     },
     "metadata": {
      "needs_background": "light"
     },
     "output_type": "display_data"
    },
    {
     "data": {
      "text/plain": [
       "<Figure size 432x288 with 0 Axes>"
      ]
     },
     "metadata": {},
     "output_type": "display_data"
    }
   ],
   "source": [
    "#x & y\n",
    "south_wind = southern_df['Wind Speed']\n",
    "\n",
    "# Perform a linear regression on temperature vs. latitude\n",
    "(slope, intercept, rvalue, pvalue, stderr) = linregress(south_lat, south_wind)\n",
    "\n",
    "# Get regression values\n",
    "regress_values = south_lat * slope + intercept\n",
    "\n",
    "# Create line equation string\n",
    "line_eq = \"y = \" + str(round(slope,2)) + \"x +\" + str(round(intercept,2))\n",
    "\n",
    "# Create Plot\n",
    "plt.scatter(south_lat,south_wind)\n",
    "plt.plot(south_lat,regress_values,\"r-\")\n",
    "\n",
    "# Label plot and annotate the line equation\n",
    "plt.xlabel('Latitude')\n",
    "plt.ylabel('Wind Speed (mph)')\n",
    "plt.title(('Southern Hemisphere Wind Speed (mph) vs. Latitude') + \" \" + pd.datetime.now().strftime(\"%m/%d/%Y\"))\n",
    "plt.annotate(line_eq,(-50,25),fontsize=15,color=\"red\")\n",
    "\n",
    "# Print r square value\n",
    "rvalue2 = round(rvalue * rvalue,3)\n",
    "print(f\"The r-squared is: {rvalue2}\")\n",
    "\n",
    "# Show plot\n",
    "plt.show()\n",
    "plt.savefig('south_wind_latitude')"
   ]
  },
  {
   "cell_type": "markdown",
   "metadata": {},
   "source": [
    "Observation:  There really is no significant relationship between wind speed and latitude for either the northern or southern hemispheres.  Once again, most speeds fall under 25 miles per hour, but there is no obvious pattern otherwise."
   ]
  },
  {
   "cell_type": "markdown",
   "metadata": {},
   "source": [
    "Overall Observations:\n",
    "1. It seems that there is a high correlation between latitude and temperature in hemispheres that are currently experiencing winter.\n",
    "2. Hemipheres that are experiencing summer have very little correlation between temperature and latitude, however this is a dynamic relationship.  As the seasons change, the correlation will likely get stronger.\n",
    "3. Besides temperature there really is no other relationship between latitude and cloudiness, humidity, or wind speed.  My guess is that the characteristics of the location define those metrics rather than latitude."
   ]
  }
 ],
 "metadata": {
  "anaconda-cloud": {},
  "kernel_info": {
   "name": "python3"
  },
  "kernelspec": {
   "display_name": "Python 3",
   "language": "python",
   "name": "python3"
  },
  "language_info": {
   "codemirror_mode": {
    "name": "ipython",
    "version": 3
   },
   "file_extension": ".py",
   "mimetype": "text/x-python",
   "name": "python",
   "nbconvert_exporter": "python",
   "pygments_lexer": "ipython3",
   "version": "3.6.9"
  },
  "latex_envs": {
   "LaTeX_envs_menu_present": true,
   "autoclose": false,
   "autocomplete": true,
   "bibliofile": "biblio.bib",
   "cite_by": "apalike",
   "current_citInitial": 1,
   "eqLabelWithNumbers": true,
   "eqNumInitial": 1,
   "hotkeys": {
    "equation": "Ctrl-E",
    "itemize": "Ctrl-I"
   },
   "labels_anchors": false,
   "latex_user_defs": false,
   "report_style_numbering": false,
   "user_envs_cfg": false
  },
  "nteract": {
   "version": "0.12.3"
  }
 },
 "nbformat": 4,
 "nbformat_minor": 2
}
